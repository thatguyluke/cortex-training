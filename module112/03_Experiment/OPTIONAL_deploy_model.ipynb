{
 "cells": [
  {
   "cell_type": "code",
   "execution_count": null,
   "metadata": {},
   "outputs": [],
   "source": [
    "%run config.ipynb"
   ]
  },
  {
   "cell_type": "code",
   "execution_count": null,
   "metadata": {},
   "outputs": [],
   "source": [
    "from cortex import Cortex, Message\n",
    "import pandas as pd\n",
    "import numpy as np\n",
    "import matplotlib.pyplot as plt\n",
    "import seaborn as sns\n",
    "import pickle\n",
    "import os\n",
    "import sys\n",
    "import json\n",
    "import re\n",
    "import time\n",
    "import datetime\n",
    "import dill\n",
    "import sklearn\n",
    "import sklearn2\n",
    "\n",
    "client = Cortex.client()\n",
    "exp = client.experiment('<namespace>/<namefrom_previous_notebook>')\n",
    "\n",
    "exp"
   ]
  },
  {
   "cell_type": "code",
   "execution_count": null,
   "metadata": {},
   "outputs": [],
   "source": [
    "run = exp.last_run() \n",
    "\n",
    "#to select a specific model you want uncomment the following and comment out above then put the exp id you want from above.\n",
    "#run = exp.get_run(<ID>)\n",
    "\n",
    "model = run.get_artifact('model')\n",
    "\n",
    "print('Run id: %s \\nModel name: \"%s\"' %(run.id, model))"
   ]
  },
  {
   "cell_type": "code",
   "execution_count": null,
   "metadata": {},
   "outputs": [],
   "source": [
    "builder = client.builder()\n",
    "builder.action('flowers/iris-predict')\\\n",
    "        .with_requirements(['tensorflow>=1.12,<2',\n",
    "                            'keras>=2.2.4,<3'])\\\n",
    "        .from_model(model, model_type='tensorflow')\\\n",
    "        .daemon()\\\n",
    "        .build()"
   ]
  },
  {
   "cell_type": "markdown",
   "metadata": {},
   "source": [
    "The following cell checks the status of the action created above.  It may take a few moments for the Deployment status to change from **STARTED** to  **COMPLETED(running)**"
   ]
  },
  {
   "cell_type": "code",
   "execution_count": null,
   "metadata": {},
   "outputs": [],
   "source": [
    "action = client.action('flowers/iris-predict')\n",
    "action"
   ]
  },
  {
   "cell_type": "code",
   "execution_count": null,
   "metadata": {},
   "outputs": [],
   "source": [
    "%%time\n",
    "\n",
    "#This may take some time - if you see a \"No load balancer found for invoked daemon.  Stack may still be initializing\" error wait a few moments and try again\n",
    "\n",
    "params = {'columns': ['sepal_len','sepal_w','petal_len','petal_w'],\n",
    "           'values': [4.9,3.1,1.5,0.2]}\n",
    "frame = pd.DataFrame(params)\n",
    "result = action.invoke(message=client.message(params))\n",
    "print(result.payload)"
   ]
  },
  {
   "cell_type": "code",
   "execution_count": null,
   "metadata": {},
   "outputs": [],
   "source": [
    "x = np.argmax(result.payload['values'][0])\n",
    "\n",
    "iris_dict = {0:'Iris-setosa',1:'Iris-versicolor',2:'Iris-virginica'}\n",
    "\n",
    "iris_dict[x]"
   ]
  },
  {
   "cell_type": "markdown",
   "metadata": {},
   "source": [
    "**Create Skill Using the Action**\n",
    "\n",
    "To create a skill from the action, call the builder to get a skill builder."
   ]
  },
  {
   "cell_type": "code",
   "execution_count": null,
   "metadata": {},
   "outputs": [],
   "source": [
    "skill_builder = builder.skill('flowers/iris-predict')\\\n",
    "     .title('Iris Flower Prediction')\\\n",
    "     .description('Measurement based prediction for the type of Iris flowers.')"
   ]
  },
  {
   "cell_type": "markdown",
   "metadata": {},
   "source": [
    "A resulting schema is used by the skill builder to identify elements of the input. In this example, the schema describes the measurement values for parts of the Iris flower."
   ]
  },
  {
   "cell_type": "code",
   "execution_count": null,
   "metadata": {},
   "outputs": [],
   "source": [
    "schema_name = 'flowers/iris-input-schema'\n",
    "\n",
    "builder.schema(schema_name)\\\n",
    "     .title('Iris Prediction Schema Instance')\\\n",
    "     .from_parameters([{'name': 'values', 'type': 'array', 'format': 'float32'}]).build()\n",
    "\n",
    "skill_builder = skill_builder.input('iris-measurement').title('Iris Measurements')\\\n",
    "     .use_schema(schema_name)\\\n",
    "     .all_routing(action, 'measurement-based-prediction').build()"
   ]
  },
  {
   "cell_type": "markdown",
   "metadata": {},
   "source": [
    "Specify the skill construction. The construction describes the skill including a name that matches the action name and a description of the output."
   ]
  },
  {
   "cell_type": "code",
   "execution_count": null,
   "metadata": {},
   "outputs": [],
   "source": [
    "skill_builder = skill_builder.output('measurement-based-prediction').title('Classification')\\\n",
    "    .parameter(name='IrisClass', type='array', format='float32').build()"
   ]
  },
  {
   "cell_type": "markdown",
   "metadata": {},
   "source": [
    "With the skill builder fully specified, call to_camel so the skill’s contents can be reviewed."
   ]
  },
  {
   "cell_type": "code",
   "execution_count": null,
   "metadata": {},
   "outputs": [],
   "source": [
    "skill_builder.to_camel()"
   ]
  },
  {
   "cell_type": "markdown",
   "metadata": {},
   "source": [
    "**Publish the Skill**\n",
    "\n",
    "Invoke the builder to publish the skill. Upon publication, the skill can be used in Cortex Studio with other skills to compose agents."
   ]
  },
  {
   "cell_type": "code",
   "execution_count": null,
   "metadata": {},
   "outputs": [],
   "source": [
    "skill = skill_builder.build()\n",
    "print('%s (%s) v%d' % (skill.title, skill.name, skill.version))"
   ]
  },
  {
   "cell_type": "markdown",
   "metadata": {},
   "source": [
    "# Test the skill"
   ]
  },
  {
   "cell_type": "code",
   "execution_count": null,
   "metadata": {},
   "outputs": [],
   "source": []
  }
 ],
 "metadata": {
  "kernelspec": {
   "display_name": "Python 3",
   "language": "python",
   "name": "python3"
  },
  "language_info": {
   "codemirror_mode": {
    "name": "ipython",
    "version": 3
   },
   "file_extension": ".py",
   "mimetype": "text/x-python",
   "name": "python",
   "nbconvert_exporter": "python",
   "pygments_lexer": "ipython3",
   "version": "3.6.8"
  }
 },
 "nbformat": 4,
 "nbformat_minor": 4
}
