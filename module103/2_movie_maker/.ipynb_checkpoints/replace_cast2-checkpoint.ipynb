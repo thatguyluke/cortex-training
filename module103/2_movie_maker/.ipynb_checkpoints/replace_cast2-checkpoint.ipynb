{
 "cells": [
  {
   "cell_type": "markdown",
   "metadata": {},
   "source": [
    "# Building the Movie Maker Skill\n",
    "This notebook demonstrates how to use the Cortex Python SDK to build a simple Skill.  For simple cases, the entire Skill can be defined, tested, and deployed right from a notebook."
   ]
  },
  {
   "cell_type": "code",
   "execution_count": null,
   "metadata": {},
   "outputs": [],
   "source": [
    "# Common Setup\n",
    "from cortex import Cortex\n",
    "%reload_ext cortex"
   ]
  },
  {
   "cell_type": "markdown",
   "metadata": {},
   "source": [
    "## Define the replace_cast function\n"
   ]
  },
  {
   "cell_type": "code",
   "execution_count": null,
   "metadata": {},
   "outputs": [],
   "source": [
    "%%cortex_action --name 'class/replace_cast2-YOUR_INITIALS' --function replace_cast2\n",
    "from cortex import Message\n",
    "\n",
    "def replace_cast2(params):\n",
    "    msg = Message(params)\n",
    "    \n",
    "    role = msg.payload.get('role')\n",
    "    new_cast = msg.payload.get('new_cast')\n",
    "    movie = msg.payload.get('movie')\n",
    "    \n",
    "    movie[role] = new_cast\n",
    "    \n",
    "    return Message.with_payload({'movie': movie}).to_params()"
   ]
  },
  {
   "cell_type": "markdown",
   "metadata": {},
   "source": [
    "Build and Deploy Action"
   ]
  },
  {
   "cell_type": "markdown",
   "metadata": {},
   "source": [
    "### Testing Actions\n",
    "Using the Cortex client, we can test our Action to make sure it deployed properly."
   ]
  },
  {
   "cell_type": "code",
   "execution_count": null,
   "metadata": {},
   "outputs": [],
   "source": [
    "# Instantiate Cortex Client\n",
    "cortex = Cortex.client()\n",
    "\n",
    "# Retrieve our Action that was deployed above\n",
    "replace_cast_action = cortex.action('class/replace_cast2-YOUR_INITIALS')"
   ]
  },
  {
   "cell_type": "markdown",
   "metadata": {},
   "source": [
    "The Action deployment status should say **COMPLETED**.  This will indicate that our Action is ready to invoke."
   ]
  },
  {
   "cell_type": "code",
   "execution_count": null,
   "metadata": {},
   "outputs": [],
   "source": [
    "action.get_deployment_status()"
   ]
  },
  {
   "cell_type": "code",
   "execution_count": null,
   "metadata": {},
   "outputs": [],
   "source": [
    "movie_maker_action = cortex.action('class/movie_maker2-YOUR_INITIALS')"
   ]
  },
  {
   "cell_type": "markdown",
   "metadata": {},
   "source": [
    "Fill in the cell below with the code you need to invoke and retrieve the output of the action you defined above"
   ]
  },
  {
   "cell_type": "code",
   "execution_count": null,
   "metadata": {},
   "outputs": [],
   "source": [
    "from cortex import Message\n",
    "\n",
    "movie = \n",
    "\n",
    "movie = movie.payload['movie']"
   ]
  },
  {
   "cell_type": "markdown",
   "metadata": {},
   "source": [
    "Once you have retrieved the output payload, use that as an input along with the other parameters to the replace_cast action to test it"
   ]
  },
  {
   "cell_type": "code",
   "execution_count": null,
   "metadata": {},
   "outputs": [],
   "source": [
    "#Invoke replace cast using the output of the movie_maker2 action above here\n",
    "new_cast = \n"
   ]
  },
  {
   "cell_type": "markdown",
   "metadata": {},
   "source": [
    "## Building a Cortex Skill\n",
    "Now that our Action is ready and tested, we can move on to building a Cortex Skill.  In this simple example, our Skill will just pipe an Input to our Action and route the Output back to the caller."
   ]
  },
  {
   "cell_type": "code",
   "execution_count": null,
   "metadata": {},
   "outputs": [],
   "source": [
    "builder = cortex.builder()"
   ]
  },
  {
   "cell_type": "code",
   "execution_count": null,
   "metadata": {},
   "outputs": [],
   "source": [
    "b = builder.skill('class/replace_cast2-YOUR_INITIALS').title('Replace Cast2-YOUR_INITIALS').description('Skill which replaces a given cast member of a movie with a new one')"
   ]
  },
  {
   "cell_type": "markdown",
   "metadata": {},
   "source": [
    "Next, we use the Input sub-builder to construct our Skill Input.  This is where we declare how our Input will route messages.  In this simple case, we use the _all_ routing which routes all input messages to same Action for processing and declares which Output to route Action outputs to.  We pass in our Action from the previous section to wire the Skill to the Action (we could have also passed in the Action name here).  Calling _build_ on the Input will create the input object, add it to the Skill builder, and return the Skill builder."
   ]
  },
  {
   "cell_type": "code",
   "execution_count": null,
   "metadata": {},
   "outputs": [],
   "source": [
    "b = b.input('replace-cast').title('Replace Cast').parameter(name='movie', type='object').parameter(name='role', type='string').parameter(name='new_cast', type='string').all_routing(action, 'movie').build()"
   ]
  },
  {
   "cell_type": "markdown",
   "metadata": {},
   "source": [
    "In the previous step, we referenced an Output called **greeting**.  We can create that Output here using the Output sub-builder."
   ]
  },
  {
   "cell_type": "code",
   "execution_count": null,
   "metadata": {},
   "outputs": [],
   "source": [
    "b = b.output('movie').title('Movie').parameter(name='movie', type='object').build()"
   ]
  },
  {
   "cell_type": "markdown",
   "metadata": {},
   "source": [
    "## Preview the CAMEL Document\n",
    "We can preview the CAMEL document that each builder will create using the _to__camel_ method."
   ]
  },
  {
   "cell_type": "code",
   "execution_count": null,
   "metadata": {},
   "outputs": [],
   "source": [
    "b.to_camel()"
   ]
  },
  {
   "cell_type": "markdown",
   "metadata": {},
   "source": [
    "## Final Build and Publish\n",
    "We are now ready to build and publish our Skill."
   ]
  },
  {
   "cell_type": "code",
   "execution_count": null,
   "metadata": {},
   "outputs": [],
   "source": [
    "skill = b.build()\n",
    "print('%s (%s) v%d' % (skill.title, skill.name, skill.version))"
   ]
  },
  {
   "cell_type": "markdown",
   "metadata": {},
   "source": [
    "Once again use the movie_maker action output in the input invocation of our new skill"
   ]
  },
  {
   "cell_type": "code",
   "execution_count": null,
   "metadata": {},
   "outputs": [],
   "source": [
    "rs = skill.invoke(input_name='replace-cast', message=Message.with_payload({'movie': <make_movie_action_output>, 'role': 'support_1', 'new_cast': 'David Spade'}))\n",
    "rs.payload"
   ]
  }
 ],
 "metadata": {
  "kernelspec": {
   "display_name": "Python 3",
   "language": "python",
   "name": "python3"
  },
  "language_info": {
   "codemirror_mode": {
    "name": "ipython",
    "version": 3
   },
   "file_extension": ".py",
   "mimetype": "text/x-python",
   "name": "python",
   "nbconvert_exporter": "python",
   "pygments_lexer": "ipython3",
   "version": "3.6.7"
  }
 },
 "nbformat": 4,
 "nbformat_minor": 2
}
