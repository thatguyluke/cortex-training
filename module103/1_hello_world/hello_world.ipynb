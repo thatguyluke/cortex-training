{
 "cells": [
  {
   "cell_type": "markdown",
   "metadata": {},
   "source": [
    "# Building A Hello World Skill\n",
    "This notebook demonstrates how to use the Cortex Python Libraries to build a simple Cortex Action and Skill.  For simple cases like this, the entire Skill can be defined, tested, and deployed right from a single notebook."
   ]
  },
  {
   "cell_type": "markdown",
   "metadata": {},
   "source": [
    "### Building a Cortex Action using iPython Magic\n",
    "The Cortex Action is a self-contained code module that encapsulates a task - in other words, it is a function in computer science terms.  It can be a long running batch job, or stateful microservice.  In this \"Hello World\" example, you will create the \"Hello World\" Action leveraging the __%%cortex_action__ iPython cell magic to automatically deploy it to your Cortex environment as a daemon."
   ]
  },
  {
   "cell_type": "markdown",
   "metadata": {},
   "source": [
    "### Important information\n",
    "\n",
    "Almost any function can be configured into a Cortex Action. \n",
    "\n",
    "Imagine the whole action as a sandwich. The the \"meat\" is the code or function you want to deploy (same as in any other environment) and Cortex is the bread.\n",
    "\n",
    "Cortex Actions are the raw functionality you wish to use in your solutions.  Actions are designed in Cortex to be able to be decoupled from a particular Skill so that they may be reused in other Skills. \n",
    "\n",
    "Cortex Skills are the computational components of an Agent. A skill executes an atomic unit of work and can be triggered by one or more inputs to produce one or more outputs. Cortex Skills' inputs, outputs, and internal routing must be handled properly. \n",
    "\n",
    "    The inputs are taken as JSON objects, and the outputs are returned as JSON objects.\n",
    "\n",
    "    These JSON objects can contain as many inputs or outputs as any normal function. \n",
    "\n",
    "To illustrate this process let's use the very basic example below and create the classic 'Hello World' example:"
   ]
  },
  {
   "cell_type": "markdown",
   "metadata": {},
   "source": [
    "## Step 1: Define the function and create the action"
   ]
  },
  {
   "cell_type": "code",
   "execution_count": null,
   "metadata": {},
   "outputs": [],
   "source": [
    "# Common Setup\n",
    "%run setup.ipynb"
   ]
  },
  {
   "cell_type": "code",
   "execution_count": null,
   "metadata": {},
   "outputs": [],
   "source": [
    "from cortex import Cortex\n",
    "Cortex.login()"
   ]
  },
  {
   "cell_type": "code",
   "execution_count": null,
   "metadata": {},
   "outputs": [],
   "source": [
    "%%cortex_action --name '<your_name>/hello-world' --function hello_world  --daemon \n",
    "\n",
    "from cortex import Cortex, Message\n",
    "\n",
    "def hello_world(params):\n",
    "    msg = Message(params)\n",
    "    cortex = Cortex.client(api_endpoint=msg.apiEndpoint, token=msg.token)\n",
    "    text = msg.payload.get('text')\n",
    "    return cortex.message({'message': 'Hello %s!' % text}).to_params()"
   ]
  },
  {
   "cell_type": "markdown",
   "metadata": {},
   "source": [
    "### Testing Actions\n",
    "Using the Cortex client, lets test our Action to ensure it deployed properly.  \n",
    "\n",
    "__PRO TIP__ Functionality testing should be done after every step of the Skill building process (either in a notebook or programatically)"
   ]
  },
  {
   "cell_type": "code",
   "execution_count": null,
   "metadata": {},
   "outputs": [],
   "source": [
    "# Instantiate Cortex Client\n",
    "cortex = Cortex.client()\n",
    "\n",
    "# Retrieve our Action that was deployed above\n",
    "# Use the same '<action_namespace>/<action_name>' as you did above for '--name'\n",
    "action = cortex.action('<YOURNAME>/hello-world')"
   ]
  },
  {
   "cell_type": "markdown",
   "metadata": {},
   "source": [
    "The Action deployment status should say **COMPLETED**.  This will indicate that our Action is ready to invoke."
   ]
  },
  {
   "cell_type": "code",
   "execution_count": null,
   "metadata": {},
   "outputs": [],
   "source": [
    "action.get_deployment_status()"
   ]
  },
  {
   "cell_type": "markdown",
   "metadata": {},
   "source": [
    "Invoke the Action using a Message object.  Here we just pass in the expected _text_ parameter in the Message payload."
   ]
  },
  {
   "cell_type": "code",
   "execution_count": null,
   "metadata": {},
   "outputs": [],
   "source": [
    "from cortex import Cortex, Message\n",
    "rs = action.invoke(cortex.message({'text': 'Cortex'}))\n",
    "rs.payload"
   ]
  },
  {
   "cell_type": "markdown",
   "metadata": {},
   "source": [
    "## Step 2. Build a Cortex Skill from the Hello World Action\n",
    "Now that our Action is ready and tested, we can move on to building a Cortex Skill.  In this simple example, our Skill will pipe an Input to the Action defined above and route the Output back to the caller."
   ]
  },
  {
   "cell_type": "code",
   "execution_count": null,
   "metadata": {},
   "outputs": [],
   "source": [
    "builder = cortex.builder()"
   ]
  },
  {
   "cell_type": "markdown",
   "metadata": {},
   "source": [
    "The _builder_ has multiple entry points, we use the _skill_ method here to declare a new \"Hello World\" Skill.  Each _builder_ method returns an instance of the builder so we can chain calls together.  "
   ]
  },
  {
   "cell_type": "code",
   "execution_count": null,
   "metadata": {},
   "outputs": [],
   "source": [
    "hello_world = builder.skill('<YOURNAME>/hello-world').title('Hello World <YOURNAME>').description('Introductory Hello World Skill by <YOUR NAME>')"
   ]
  },
  {
   "cell_type": "markdown",
   "metadata": {},
   "source": [
    "Next, we use the Input sub-builder to construct our Skill Input.  This is where we declare how our Input will route messages.  In this simple case, we use the _all_ routing which routes all input messages to same Action for processing and declares which Output to route Action outputs to.  We pass in our Action from the previous section to wire the Skill to the Action (we could have also passed in the Action name here).  Calling _build_ on the Input will create the input object, add it to the Skill builder, and return the Skill builder."
   ]
  },
  {
   "cell_type": "code",
   "execution_count": null,
   "metadata": {},
   "outputs": [],
   "source": [
    "hello_world = hello_world.input('say-hello').title('Your Name').parameter(name='text', type='string').all_routing(action, 'greeting').build()"
   ]
  },
  {
   "cell_type": "markdown",
   "metadata": {},
   "source": [
    "In the previous step, we referenced an Output called **greeting**.  We can create that Output here using the Output sub-builder."
   ]
  },
  {
   "cell_type": "code",
   "execution_count": null,
   "metadata": {},
   "outputs": [],
   "source": [
    "hello_world = hello_world.output('greeting').title('Greeting').parameter(name='message', type='string').build()"
   ]
  },
  {
   "cell_type": "markdown",
   "metadata": {},
   "source": [
    "## Step 3. Preview the CAMEL Document\n",
    "We can preview the CAMEL (Cognitive Agent Modeling And Execution Language) document that each builder will create using the _to__camel_ method."
   ]
  },
  {
   "cell_type": "code",
   "execution_count": null,
   "metadata": {},
   "outputs": [],
   "source": [
    "hello_world.to_camel()"
   ]
  },
  {
   "cell_type": "markdown",
   "metadata": {},
   "source": [
    "## Step 4. Final Build and Publish\n",
    "You are now ready to build and publish your Skill to you Cortex Catalog."
   ]
  },
  {
   "cell_type": "code",
   "execution_count": null,
   "metadata": {},
   "outputs": [],
   "source": [
    "skill = hello_world.build()\n",
    "print('%s (%s) v%d' % (skill.title, skill.name, skill.version))"
   ]
  },
  {
   "cell_type": "code",
   "execution_count": null,
   "metadata": {},
   "outputs": [],
   "source": [
    "rs = skill.invoke(input_name='say-hello', message=cortex.message({'text': 'Cortex'}))\n",
    "rs.payload"
   ]
  },
  {
   "cell_type": "markdown",
   "metadata": {},
   "source": [
    "# Create Your Own Action\n",
    "\n",
    "Now that you have seen some basic action and skill creation, it's time to try it on your own. Below is a basic code sample, and it's your job to turn it into a Cortex Action. "
   ]
  },
  {
   "cell_type": "markdown",
   "metadata": {},
   "source": [
    "Convert the included movie_maker function to a Cortex action, and then build a skill with that action."
   ]
  },
  {
   "cell_type": "markdown",
   "metadata": {},
   "source": [
    "### 1. Your task ##\n",
    "Convert the following movie_maker function into a Cortex action and then build your own skill with that action.\n",
    "\n",
    "HINT: Use the hello_world walkthrough as an example **(a complete example is included at the end of this notebook)**"
   ]
  },
  {
   "cell_type": "markdown",
   "metadata": {},
   "source": [
    "### 2. Read this Important Information\n",
    "\n",
    "You can import libraries that the action will need (even if you dont have the library installed on your own machine). If a library requires a **pip install**, you can add it to the \n",
    "\n",
    "docker container using cell magic with a **'--requirements'** flag. \n",
    "\n",
    "### 3. Examples and tips:\n",
    "For example the 'seaborn' library, cannot be simply imported. It must be installed via pip first. To do this the cell magic up top would look like:\n",
    "\n",
    "**'%%cortex_action --name '<namespace>/my-function' --function my_function --requirements seaborn' --daemon**\n",
    "\n",
    "Any other additional libraries that must be installed in the container can be added to the requirements flag with a comma. (ex. '--requirements seaborn,nltk')\n",
    "\n",
    "To create a daemon or job, simply add a '--daemon' or '--job' flag to the top of the cell magic.\n",
    "\n",
    "**Note** For the movie_maker function, you will need to add the 'faker' library as a requirement"
   ]
  },
  {
   "cell_type": "markdown",
   "metadata": {},
   "source": [
    "The movie_maker function takes in the name of a movie as a string, and outputs a dictionary with four cast members."
   ]
  },
  {
   "cell_type": "markdown",
   "metadata": {},
   "source": [
    "### 4. Try it now (A completed example is at the end of this notebook)\n",
    "\n",
    "* It's helpful to take a look back at the 'hello_world' action to see what kind of things Cortex needs to turn a function into an action\n",
    "\n",
    "* Remember, Cortex actions are deployed as docker images, so make sure to add in the code for the Cortex Magics\n",
    "\n",
    "* Input and Output are passed as JSON objects in Cortex, so rather than explicitly passing an object to a function within your action like \n",
    "  'multiplier(x,y)', you would pass it as 'multiplier(params)' and then retrieve the objects x and y out of the params JSON object\n",
    " \n",
    "* Rather than returning an object, you must call the cortex Message builder to return the message as a payload. This is a JSON structure such as '{'key' : object}'. \n",
    "\n",
    "* Remember, this movie_maker function requires a library called 'faker'. This means it must be added in the '--requirements' flag up top with the magics\n",
    "\n"
   ]
  },
  {
   "cell_type": "code",
   "execution_count": null,
   "metadata": {},
   "outputs": [],
   "source": [
    "#Hint the cell magic goes first\n",
    "\n",
    "#Here is the basic function that will be in your action (container)\n",
    "\n",
    "#Don't forget to import what your action will need\n",
    "\n",
    "#Remember Cortex expects messages to be passed in a certain format\n",
    "\n",
    "from faker import Faker\n",
    "def movie_maker(name_of_movie):\n",
    "    fake = Faker()\n",
    "    movie = {'name_of_movie': name_of_movie, 'lead_1': fake.name(), 'lead_2': fake.name(), 'support_1': fake.name(), 'support_2': fake.name()}\n",
    "    return movie"
   ]
  },
  {
   "cell_type": "markdown",
   "metadata": {},
   "source": [
    "## Test the movie_maker action"
   ]
  },
  {
   "cell_type": "code",
   "execution_count": null,
   "metadata": {},
   "outputs": [],
   "source": [
    "# Instantiate Cortex Client\n",
    "cortex = Cortex.client()\n",
    "\n",
    "# Retrieve our Action that was deployed above\n",
    "# Use the same '<action_namespace>/<action_name>' as you did in the action header\n",
    "action = cortex.action('<YOURNAME>/<movie_maker_YOUR_INITIALS>')"
   ]
  },
  {
   "cell_type": "code",
   "execution_count": null,
   "metadata": {},
   "outputs": [],
   "source": [
    "from cortex import Message\n",
    "rs = action.invoke(cortex.message({'name_of_movie': 'Our Big Adventure'}))\n",
    "movie_maker_output = rs.payload\n",
    "movie_maker_output"
   ]
  },
  {
   "cell_type": "markdown",
   "metadata": {},
   "source": [
    "# Creating the movie_maker Skill"
   ]
  },
  {
   "cell_type": "code",
   "execution_count": null,
   "metadata": {},
   "outputs": [],
   "source": [
    "builder = cortex.builder()"
   ]
  },
  {
   "cell_type": "markdown",
   "metadata": {},
   "source": [
    "The _builder_ has multiple entry points, we use the _skill_ method here to declare a new \"Hello World\" Skill.  Each _builder_ method returns an instance of the builder so we can chain calls together.  "
   ]
  },
  {
   "cell_type": "code",
   "execution_count": null,
   "metadata": {},
   "outputs": [],
   "source": [
    "b = builder.skill('<namespace>/<movie_maker_YOUR_INITIALS>').title('Movie Maker-<YOUR_INITIALS>').description('Generates a fake cast for a movie by <YOUR_INITIALS>')"
   ]
  },
  {
   "cell_type": "markdown",
   "metadata": {},
   "source": [
    "Next, we use the Input sub-builder to construct our Skill Input.  This is where we declare how our Input will route messages.  In this simple case, we use the _all_ routing which routes all input messages to same Action for processing and declares which Output to route Action outputs to.  We pass in our Action from the previous section to wire the Skill to the Action (we could have also passed in the Action name here).  Calling _build_ on the Input will create the input object, add it to the Skill builder, and return the Skill builder."
   ]
  },
  {
   "cell_type": "code",
   "execution_count": null,
   "metadata": {},
   "outputs": [],
   "source": [
    "b = b.input('make-movie').title('Name of Movie').parameter(name='name_of_movie', type='string').all_routing(action, 'movie').build()"
   ]
  },
  {
   "cell_type": "markdown",
   "metadata": {},
   "source": [
    "In the previous step, we referenced an Output called **movie**.  We can create that Output here using the Output sub-builder."
   ]
  },
  {
   "cell_type": "code",
   "execution_count": null,
   "metadata": {},
   "outputs": [],
   "source": [
    "b = b.output('movie').title('Movie').parameter(name='movie', type='object', required=True).parameter(name='role', type='string', required=True).parameter(name='new_cast', type='string', required=True).build()"
   ]
  },
  {
   "cell_type": "markdown",
   "metadata": {},
   "source": [
    "## Preview the CAMEL Document\n",
    "We can preview the CAMEL document that each builder will create using the _to__camel_ method."
   ]
  },
  {
   "cell_type": "code",
   "execution_count": null,
   "metadata": {},
   "outputs": [],
   "source": [
    "b.to_camel()"
   ]
  },
  {
   "cell_type": "markdown",
   "metadata": {},
   "source": [
    "## Final Build and Publish\n",
    "We are now ready to build and publish our Skill."
   ]
  },
  {
   "cell_type": "code",
   "execution_count": null,
   "metadata": {},
   "outputs": [],
   "source": [
    "skill = b.build()\n",
    "print('%s (%s) v%d' % (skill.title, skill.name, skill.version))"
   ]
  },
  {
   "cell_type": "code",
   "execution_count": null,
   "metadata": {},
   "outputs": [],
   "source": [
    "rs = skill.invoke(input_name='make-movie', message=cortex.message({'name_of_movie': 'Neils Big Adventure'}))\n",
    "rs.payload"
   ]
  },
  {
   "cell_type": "markdown",
   "metadata": {},
   "source": [
    "## Completed example\n",
    "\n",
    "Expand the following to see how to make this action"
   ]
  },
  {
   "cell_type": "code",
   "execution_count": null,
   "metadata": {
    "jupyter": {
     "source_hidden": true
    }
   },
   "outputs": [],
   "source": [
    "%%cortex_action --name '<YOURNAME>/<movie_maker_YOUR_INITIALS>' --function movie_maker --requirements faker --daemon\n",
    "\n",
    "from faker import Faker\n",
    "from cortex import Cortex, Message\n",
    "\n",
    "\n",
    "def movie_maker(params):\n",
    "    msg = Message(params)\n",
    "    cortex = Cortex.client(api_endpoint=msg.apiEndpoint, token=msg.token)\n",
    "    fake = Faker()\n",
    "    name_of_movie = msg.payload.get('name_of_movie')\n",
    "    movie = {'name_of_movie': name_of_movie, 'lead_1': fake.name(), 'lead_2': fake.name(), 'support_1': fake.name(), 'support_2': fake.name()}\n",
    "    return cortex.message({'movie': movie}).to_params()"
   ]
  },
  {
   "cell_type": "code",
   "execution_count": null,
   "metadata": {
    "jupyter": {
     "source_hidden": true
    }
   },
   "outputs": [],
   "source": [
    "# Instantiate Cortex Client\n",
    "cortex = Cortex.client()\n",
    "\n",
    "# Retrieve our Action that was deployed above\n",
    "# Use the same '<action_namespace>/<action_name>' as you did in the action header\n",
    "action = cortex.action('<YOURNAME>/<movie_maker_YOUR_INITIALS>')"
   ]
  },
  {
   "cell_type": "code",
   "execution_count": null,
   "metadata": {
    "jupyter": {
     "source_hidden": true
    }
   },
   "outputs": [],
   "source": [
    "action.get_deployment_status()"
   ]
  },
  {
   "cell_type": "code",
   "execution_count": null,
   "metadata": {
    "jupyter": {
     "source_hidden": true
    }
   },
   "outputs": [],
   "source": [
    "from cortex import Message\n",
    "rs = action.invoke(cortex.message({'name_of_movie': 'The Princess Bride 2'}))\n",
    "movie_maker_output = rs.payload\n",
    "movie_maker_output"
   ]
  },
  {
   "cell_type": "code",
   "execution_count": null,
   "metadata": {},
   "outputs": [],
   "source": []
  }
 ],
 "metadata": {
  "kernelspec": {
   "display_name": "Python 3",
   "language": "python",
   "name": "python3"
  },
  "language_info": {
   "codemirror_mode": {
    "name": "ipython",
    "version": 3
   },
   "file_extension": ".py",
   "mimetype": "text/x-python",
   "name": "python",
   "nbconvert_exporter": "python",
   "pygments_lexer": "ipython3",
   "version": "3.6.10"
  }
 },
 "nbformat": 4,
 "nbformat_minor": 4
}
