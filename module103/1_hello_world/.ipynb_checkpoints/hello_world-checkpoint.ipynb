{
 "cells": [
  {
   "cell_type": "markdown",
   "metadata": {},
   "source": [
    "# Building the Hello World Skill\n",
    "This notebook demonstrates how to use the Cortex Python SDK to build a simple Skill.  For simple cases, the entire Skill can be defined, tested, and deployed right from a notebook."
   ]
  },
  {
   "cell_type": "code",
   "execution_count": null,
   "metadata": {},
   "outputs": [],
   "source": [
    "# Common Setup\n",
    "%run setup.ipynb"
   ]
  },
  {
   "cell_type": "markdown",
   "metadata": {},
   "source": [
    "## Building a Cortex Action using iPython Magic\n",
    "The Cortex Action is a self-contained code module that encapsulates a task - in other words, it is a function in computer science terms.  It can be a short running service, long running batch job, or stateful microservice.  For our simple \"Hello World\" example, we can create our Action using a function and leverage the __%%cortex_action__ iPython cell magic to automatically deploy it to the Cortex Cloud."
   ]
  },
  {
   "cell_type": "markdown",
   "metadata": {},
   "source": [
    "Any function can be configured into a Cortex Action with ease. \n",
    "\n",
    "To help think about this, imagine the whole action as a sandwich. The bread is where Cortex comes in, but the meat is the code that would \n",
    "be the same in any other environment. \n",
    "\n",
    "For Cortex Actions and Skills, one must handle the inputs and outputs properly. \n",
    "\n",
    "The inputs are taken as JSON objects, and at the same time the outputs are returned as JSON objects.\n",
    "\n",
    "These JSON objects can contains as many inputs or outputs as any normal function could. \n",
    "\n",
    "To illustrate this, here is a very basic example below using the classic 'Hello World' example:"
   ]
  },
  {
   "cell_type": "code",
   "execution_count": null,
   "metadata": {},
   "outputs": [],
   "source": [
    "%%cortex_action --name 'class/hello-world-YOUR_INITIALS' --function hello_world\n",
    "\n",
    "from cortex import Message\n",
    "\n",
    "def hello_world(params):\n",
    "    msg = Message(params)\n",
    "    text = msg.payload.get('text')\n",
    "    return Message.with_payload({'message': 'Hello %s!' % text}).to_params()"
   ]
  },
  {
   "cell_type": "markdown",
   "metadata": {},
   "source": [
    "### Testing Actions\n",
    "Using the Cortex client, we can test our Action to make sure it deployed properly."
   ]
  },
  {
   "cell_type": "code",
   "execution_count": null,
   "metadata": {},
   "outputs": [],
   "source": [
    "# Instantiate Cortex Client\n",
    "cortex = Cortex.client()\n",
    "\n",
    "# Retrieve our Action that was deployed above\n",
    "# Use the same '<action_namespace>/<action_name>' as you did above for '--name'\n",
    "action = cortex.action('class/hello-world-YOUR_INITIALS')"
   ]
  },
  {
   "cell_type": "markdown",
   "metadata": {},
   "source": [
    "The Action deployment status should say **COMPLETED**.  This will indicate that our Action is ready to invoke."
   ]
  },
  {
   "cell_type": "code",
   "execution_count": null,
   "metadata": {},
   "outputs": [],
   "source": [
    "action.get_deployment_status()"
   ]
  },
  {
   "cell_type": "markdown",
   "metadata": {},
   "source": [
    "Invoke the Action using a Message object.  Here we just pass in the expected _text_ parameter in the Message payload."
   ]
  },
  {
   "cell_type": "code",
   "execution_count": null,
   "metadata": {},
   "outputs": [],
   "source": [
    "from cortex import Message\n",
    "rs = action.invoke(Message.with_payload({'text': 'Cortex'}))\n",
    "rs.payload"
   ]
  },
  {
   "cell_type": "markdown",
   "metadata": {},
   "source": [
    "## Building a Cortex Skill from the Hello World Action\n",
    "Now that our Action is ready and tested, we can move on to building a Cortex Skill.  In this simple example, our Skill will pipe an Input to our Action and route the Output back to the caller."
   ]
  },
  {
   "cell_type": "code",
   "execution_count": null,
   "metadata": {},
   "outputs": [],
   "source": [
    "builder = cortex.builder()"
   ]
  },
  {
   "cell_type": "markdown",
   "metadata": {},
   "source": [
    "The _builder_ has multiple entry points, we use the _skill_ method here to declare a new \"Hello World\" Skill.  Each _builder_ method returns an instance of the builder so we can chain calls together.  "
   ]
  },
  {
   "cell_type": "code",
   "execution_count": null,
   "metadata": {},
   "outputs": [],
   "source": [
    "hello_world = builder.skill('class/hello-world-YOUR_INITIALS').title('Hello World-YOUR_INITIALS').description('Introductory Hello World Skill by YOUR_INITIALS')"
   ]
  },
  {
   "cell_type": "markdown",
   "metadata": {},
   "source": [
    "Next, we use the Input sub-builder to construct our Skill Input.  This is where we declare how our Input will route messages.  In this simple case, we use the _all_ routing which routes all input messages to same Action for processing and declares which Output to route Action outputs to.  We pass in our Action from the previous section to wire the Skill to the Action (we could have also passed in the Action name here).  Calling _build_ on the Input will create the input object, add it to the Skill builder, and return the Skill builder."
   ]
  },
  {
   "cell_type": "code",
   "execution_count": null,
   "metadata": {},
   "outputs": [],
   "source": [
    "hello_world = hello_world.input('say-hello').title('Your Name').parameter(name='text', type='string').all_routing(action, 'greeting').build()"
   ]
  },
  {
   "cell_type": "markdown",
   "metadata": {},
   "source": [
    "In the previous step, we referenced an Output called **greeting**.  We can create that Output here using the Output sub-builder."
   ]
  },
  {
   "cell_type": "code",
   "execution_count": null,
   "metadata": {},
   "outputs": [],
   "source": [
    "hello_world = hello_world.output('greeting').title('Greeting').parameter(name='message', type='string').build()"
   ]
  },
  {
   "cell_type": "markdown",
   "metadata": {},
   "source": [
    "## Preview the CAMEL Document\n",
    "We can preview the CAMEL document that each builder will create using the _to__camel_ method."
   ]
  },
  {
   "cell_type": "code",
   "execution_count": null,
   "metadata": {},
   "outputs": [],
   "source": [
    "hello_world.to_camel()"
   ]
  },
  {
   "cell_type": "markdown",
   "metadata": {},
   "source": [
    "## Final Build and Publish\n",
    "We are now ready to build and publish our Skill."
   ]
  },
  {
   "cell_type": "code",
   "execution_count": null,
   "metadata": {},
   "outputs": [],
   "source": [
    "skill = hello_world.build()\n",
    "print('%s (%s) v%d' % (skill.title, skill.name, skill.version))"
   ]
  },
  {
   "cell_type": "code",
   "execution_count": null,
   "metadata": {},
   "outputs": [],
   "source": [
    "rs = skill.invoke(input_name='say-hello', message=Message.with_payload({'text': 'Cortex'}))\n",
    "rs.payload"
   ]
  },
  {
   "cell_type": "markdown",
   "metadata": {},
   "source": [
    "## Creating Your Own Action\n",
    "\n",
    "Now that you have seen some basic action and skill creation, it's time to try it on your own. Below is a basic code sample, and it's your job to turn it into a Cortex Action. "
   ]
  },
  {
   "cell_type": "markdown",
   "metadata": {},
   "source": [
    "# Converting the movie_maker function to Cortex actions"
   ]
  },
  {
   "cell_type": "markdown",
   "metadata": {},
   "source": [
    "Remember, you can import whichever libraries you need. If certain libraries require a **pip install**, they can be added into the \n",
    "\n",
    "docker container through the cell magic via a **'--requirements'** flag up top. \n",
    "\n",
    "Example:\n",
    "For the 'seaborn' library, one cannot simply import it. It must be installed via pip first. The cell magic up top would then look like:\n",
    "\n",
    "**'%%cortex_action --name 'class/my-function' --function my_function --requirements seaborn'**\n",
    "\n",
    "Any other libraries that must be installed can be added to the requirements flag with a comma. ('--requirements seaborn,nltk')\n",
    "\n",
    "To create a daemon or job, add a '--daemon' or '--job' flag to the top of the cell magic, nothing else needs to change. \n",
    "\n",
    "The same cell magic above for creating a daemon would look like\n",
    "\n",
    "**'%%cortex_action --name 'class/my-function' --function my_function --requirements seaborn' --daemon**\n",
    "\n",
    "**Note** For the movie_maker function, you will need to add the 'faker' library as a requirement"
   ]
  },
  {
   "cell_type": "markdown",
   "metadata": {},
   "source": [
    "Using the hello_world walkthrough as an example, convert this function to a Cortex Action followed by a Cortex Skill yourself"
   ]
  },
  {
   "cell_type": "markdown",
   "metadata": {},
   "source": [
    "The movie_maker function takes in the name of a movie as a string, and outputs a dictionary with four cast members"
   ]
  },
  {
   "cell_type": "code",
   "execution_count": null,
   "metadata": {},
   "outputs": [],
   "source": [
    "from faker import Faker\n",
    "def movie_maker(name_of_movie):\n",
    "    fake = Faker()\n",
    "    movie = {'name_of_movie': name_of_movie, 'lead_1': fake.name(), 'lead_2': fake.name(), 'support_1': fake.name(), 'support_2': fake.name()}\n",
    "    return movie"
   ]
  },
  {
   "cell_type": "code",
   "execution_count": null,
   "metadata": {},
   "outputs": [],
   "source": [
    "movie_maker('Johns Big Adventure')"
   ]
  },
  {
   "cell_type": "markdown",
   "metadata": {},
   "source": [
    "## Converting functions into Cortex Actions"
   ]
  },
  {
   "cell_type": "markdown",
   "metadata": {},
   "source": [
    "Now let's take the movie_maker function above and convert it into a Cortex Action"
   ]
  },
  {
   "cell_type": "markdown",
   "metadata": {},
   "source": [
    "* It's helpful to take a look back at the 'hello_world' action to see what kind of things Cortex needs to turn a function into an action\n",
    "\n",
    "* Remember that cortex actions need to be deployed as docker images, so make sure to add in the code for the Cortex Magics\n",
    "\n",
    "* Input and Output are passed as JSON objects in Cortex, so rather than explicitly passing an object to a function within your action like \n",
    "  'multiplier(x,y)', you would pass it as 'multiplier(params)' and then retrieve the objects x and y out of the params JSON object\n",
    " \n",
    "* Rather than returning simply an object, you must call the cortex Message builder to return the message as a payload. This is a JSON structure such as '{'key' : object}'. \n",
    "\n",
    "* Keep in mind that this movie_maker function requires a library called 'faker'. This means it will have to be added in the '--requirements' flag up top with the magics"
   ]
  },
  {
   "cell_type": "markdown",
   "metadata": {},
   "source": [
    "## Create your 'movie_maker' action in the cell below"
   ]
  },
  {
   "cell_type": "code",
   "execution_count": null,
   "metadata": {},
   "outputs": [],
   "source": []
  },
  {
   "cell_type": "markdown",
   "metadata": {},
   "source": [
    "# Testing the movie_maker action"
   ]
  },
  {
   "cell_type": "code",
   "execution_count": null,
   "metadata": {},
   "outputs": [],
   "source": [
    "# Instantiate Cortex Client\n",
    "cortex = Cortex.client()\n",
    "\n",
    "# Retrieve our Action that was deployed above\n",
    "# Use the same '<action_namespace>/<action_name>' as you did in the action header                                                                                              d above for '--name'\n",
    "action = cortex.action('class/movie_maker-YOUR_INITIALS')"
   ]
  },
  {
   "cell_type": "code",
   "execution_count": null,
   "metadata": {},
   "outputs": [],
   "source": [
    "from cortex import Message\n",
    "rs = action.invoke(Message.with_payload({'name_of_movie': 'Johns Big Adventure'}))\n",
    "movie_maker_output = rs.payload\n",
    "movie_maker_output"
   ]
  },
  {
   "cell_type": "markdown",
   "metadata": {},
   "source": [
    "# Creating the movie_maker Skill"
   ]
  },
  {
   "cell_type": "code",
   "execution_count": null,
   "metadata": {},
   "outputs": [],
   "source": [
    "builder = cortex.builder()"
   ]
  },
  {
   "cell_type": "markdown",
   "metadata": {},
   "source": [
    "The _builder_ has multiple entry points, we use the _skill_ method here to declare a new \"Hello World\" Skill.  Each _builder_ method returns an instance of the builder so we can chain calls together.  "
   ]
  },
  {
   "cell_type": "code",
   "execution_count": null,
   "metadata": {},
   "outputs": [],
   "source": [
    "b = builder.skill('class/movie_maker-YOUR_INITIALS').title('Movie Maker-YOUR_INITIALS').description('Skill which generates a fake cast for a movie-YOUR_INITIALS')"
   ]
  },
  {
   "cell_type": "markdown",
   "metadata": {},
   "source": [
    "Next, we use the Input sub-builder to construct our Skill Input.  This is where we declare how our Input will route messages.  In this simple case, we use the _all_ routing which routes all input messages to same Action for processing and declares which Output to route Action outputs to.  We pass in our Action from the previous section to wire the Skill to the Action (we could have also passed in the Action name here).  Calling _build_ on the Input will create the input object, add it to the Skill builder, and return the Skill builder."
   ]
  },
  {
   "cell_type": "code",
   "execution_count": null,
   "metadata": {},
   "outputs": [],
   "source": [
    "b = b.input('make-movie').title('Name of Movie').parameter(name='name_of_movie', type='string').all_routing(action, 'movie').build()"
   ]
  },
  {
   "cell_type": "markdown",
   "metadata": {},
   "source": [
    "In the previous step, we referenced an Output called **movie**.  We can create that Output here using the Output sub-builder."
   ]
  },
  {
   "cell_type": "code",
   "execution_count": null,
   "metadata": {},
   "outputs": [],
   "source": [
    "b = b.output('movie').title('Movie').parameter(name='movie', type='object', required=True).parameter(name='role', type='string', required=True).parameter(name='new_cast', type='string', required=True).build()"
   ]
  },
  {
   "cell_type": "markdown",
   "metadata": {},
   "source": [
    "## Preview the CAMEL Document\n",
    "We can preview the CAMEL document that each builder will create using the _to__camel_ method."
   ]
  },
  {
   "cell_type": "code",
   "execution_count": null,
   "metadata": {},
   "outputs": [],
   "source": [
    "b.to_camel()"
   ]
  },
  {
   "cell_type": "markdown",
   "metadata": {},
   "source": [
    "## Final Build and Publish\n",
    "We are now ready to build and publish our Skill."
   ]
  },
  {
   "cell_type": "code",
   "execution_count": null,
   "metadata": {},
   "outputs": [],
   "source": [
    "skill = b.build()\n",
    "print('%s (%s) v%d' % (skill.title, skill.name, skill.version))"
   ]
  },
  {
   "cell_type": "code",
   "execution_count": null,
   "metadata": {},
   "outputs": [],
   "source": [
    "rs = skill.invoke(input_name='make-movie', message=Message.with_payload({'name_of_movie': 'Neils Big Adventure'}))\n",
    "rs.payload"
   ]
  }
 ],
 "metadata": {
  "kernelspec": {
   "display_name": "Python 3",
   "language": "python",
   "name": "python3"
  },
  "language_info": {
   "codemirror_mode": {
    "name": "ipython",
    "version": 3
   },
   "file_extension": ".py",
   "mimetype": "text/x-python",
   "name": "python",
   "nbconvert_exporter": "python",
   "pygments_lexer": "ipython3",
   "version": "3.6.7"
  }
 },
 "nbformat": 4,
 "nbformat_minor": 2
}
