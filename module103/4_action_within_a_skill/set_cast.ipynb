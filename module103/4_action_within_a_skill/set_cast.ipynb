{
 "cells": [
  {
   "cell_type": "markdown",
   "metadata": {},
   "source": [
    "# Building the Set_Cast Skill\n",
    "This notebook demonstrates how to build a skill which will invoke another from within itself. Since we already created the action for our simple movie_maker in class121, we will reference that in our new action. Since we are now directly setting the cast member from within the Action itself, the 'replace_cast' action becomes 'set_cast'."
   ]
  },
  {
   "cell_type": "code",
   "execution_count": null,
   "metadata": {},
   "outputs": [],
   "source": [
    "# Common Setup\n",
    "%run setup.ipynb"
   ]
  },
  {
   "cell_type": "markdown",
   "metadata": {},
   "source": [
    "## Referencing an action within an action"
   ]
  },
  {
   "cell_type": "markdown",
   "metadata": {},
   "source": [
    "The set_cast action will take three parameters, 'name_of_movie' (string) to be passed to our movie_maker action, 'role' (string) to tell the set_cast function which role to replace, 'set_cast' (string) which is the name of the new cast member we want to set for our chosen role."
   ]
  },
  {
   "cell_type": "markdown",
   "metadata": {},
   "source": [
    "Now we will create the sum_to_multiplier skill. This will call upon the multiplier action, and will need our token in order to be authenticated. It will return the sum of the two input numbers, as well as the output from the multiplier action which is the product of the same two numbers."
   ]
  },
  {
   "cell_type": "code",
   "execution_count": null,
   "metadata": {},
   "outputs": [],
   "source": [
    "%%cortex_action --name 'class/set_cast-YOUR_INITIALS' --function set_cast\n",
    "\n",
    "from cortex import Message, Cortex\n",
    "\n",
    "def set_cast(params):\n",
    "    \n",
    "    msg = Message(params)\n",
    "    \n",
    "    name_of_movie = msg.payload.get('name_of_movie')\n",
    "    role = msg.payload.get('role')\n",
    "    set_cast = msg.payload.get('set_cast')\n",
    "    #We need to enter your token in order to be authenticated by Cortex to call upon the class/movie_maker action\n",
    "    cortex = Cortex.client(api_endpoint = msg.apiEndpoint, token = msg.token)\n",
    "    \n",
    "    action = cortex.action('class/movie_maker')\n",
    "    \n",
    "    rs = action.invoke(Message.with_payload({'name_of_movie':name_of_movie}))\n",
    "    \n",
    "    movie = rs.payload.get('movie')\n",
    "    \n",
    "    movie[role] = set_cast\n",
    "    \n",
    "    return Message.with_payload({'movie': movie}).to_params()"
   ]
  },
  {
   "cell_type": "markdown",
   "metadata": {},
   "source": [
    "### Testing Actions\n",
    "Using the Cortex client, we can test our Action to make sure it deployed properly."
   ]
  },
  {
   "cell_type": "code",
   "execution_count": null,
   "metadata": {},
   "outputs": [],
   "source": [
    "# Instantiate Cortex Client\n",
    "cortex = Cortex.client()\n",
    "action = cortex.action('class/set_cast-YOUR_INITIALS')"
   ]
  },
  {
   "cell_type": "markdown",
   "metadata": {},
   "source": [
    "The Action deployment status should say **COMPLETED**.  This will indicate that our Action is ready to invoke."
   ]
  },
  {
   "cell_type": "code",
   "execution_count": null,
   "metadata": {},
   "outputs": [],
   "source": [
    "action.get_deployment_status()"
   ]
  },
  {
   "cell_type": "markdown",
   "metadata": {},
   "source": [
    "Invoke the Action using a Message object.  Here we will pass two numbers in, which will first be used by the original skill (sum_to_multiplier) then passed to the multiplier skill and finally will output the result of both."
   ]
  },
  {
   "cell_type": "code",
   "execution_count": null,
   "metadata": {},
   "outputs": [],
   "source": [
    "#Test payload\n",
    "\n",
    "from cortex import Message\n",
    "rs = action.invoke(Message.with_payload({'name_of_movie':'The Matrix Part 4', 'role':'lead_1','set_cast':'Jim Carrey'}))\n",
    "rs.payload.get('movie')"
   ]
  },
  {
   "cell_type": "markdown",
   "metadata": {},
   "source": [
    "## Building a Cortex Skill\n",
    "Now that our Action is ready and tested, we can move on to building a Cortex Skill.  In this simple example, our Skill will just pipe an Input to our Action and route the Output back to the caller."
   ]
  },
  {
   "cell_type": "code",
   "execution_count": null,
   "metadata": {},
   "outputs": [],
   "source": [
    "builder = cortex.builder()"
   ]
  },
  {
   "cell_type": "markdown",
   "metadata": {},
   "source": [
    "The _builder_ has multiple entry points, we use the _skill_ method here to declare a new \"Sum to Multiplier\" Skill.  Each _builder_ method returns an instance of the builder so we can chain calls together.  "
   ]
  },
  {
   "cell_type": "code",
   "execution_count": null,
   "metadata": {},
   "outputs": [],
   "source": [
    "set_cast = builder.skill('class/set_cast-YOUR_INITIALS').title('Set Cast-YOUR_INITIALS').description('This skill will invoke another previously defined action, movie_maker to retrieve its output for use in setting the cast member of a new movie.')"
   ]
  },
  {
   "cell_type": "markdown",
   "metadata": {},
   "source": [
    "Next, we use the Input sub-builder to construct our Skill Input.  This is where we declare how our Input will route messages.  In this simple case, we use the _all_ routing which routes all input messages to same Action for processing and declares wich Output to route Action outputs to.  We pass in our Action from the previous section to wire the Skill to the Action (we could have also passed in the Action name here).  Calling _build_ on the Input will create the input object, add it to the Skill builder, and return the Skill builder."
   ]
  },
  {
   "cell_type": "code",
   "execution_count": null,
   "metadata": {},
   "outputs": [],
   "source": [
    "set_cast = set_cast.input('set-cast').title('Set Cast').parameter(name='name_of_movie', type='string').parameter(name='role', type='string').parameter(name='set_cast', type='string').all_routing(action, 'movie').build()"
   ]
  },
  {
   "cell_type": "markdown",
   "metadata": {},
   "source": [
    "In the previous step, we referenced an Output called **output**.  We can create that Output here using the Output sub-builder."
   ]
  },
  {
   "cell_type": "code",
   "execution_count": null,
   "metadata": {},
   "outputs": [],
   "source": [
    "set_cast = set_cast.output('movie').title('Movie').parameter(name='movie', type='object').build()"
   ]
  },
  {
   "cell_type": "markdown",
   "metadata": {},
   "source": [
    "## Preview the CAMEL Document\n",
    "We can preview the CAMEL document that each builder will create using the _to_camel_ method."
   ]
  },
  {
   "cell_type": "code",
   "execution_count": null,
   "metadata": {},
   "outputs": [],
   "source": [
    "set_cast.to_camel()"
   ]
  },
  {
   "cell_type": "markdown",
   "metadata": {},
   "source": [
    "## Final Build and Publish\n",
    "We are now ready to build and publish our Skill."
   ]
  },
  {
   "cell_type": "code",
   "execution_count": null,
   "metadata": {},
   "outputs": [],
   "source": [
    "skill = set_cast.build()\n",
    "print('%s (%s) v%d' % (skill.title, skill.name, skill.version))"
   ]
  },
  {
   "cell_type": "code",
   "execution_count": null,
   "metadata": {},
   "outputs": [],
   "source": [
    "rs = skill.invoke(input_name='set-cast', message=Message.with_payload({\"name_of_movie\":'Weekend at Howies', \"role\":'lead_2','set_cast':'George Clooney'}))\n",
    "rs.payload"
   ]
  }
 ],
 "metadata": {
  "kernelspec": {
   "display_name": "Python 3",
   "language": "python",
   "name": "python3"
  },
  "language_info": {
   "codemirror_mode": {
    "name": "ipython",
    "version": 3
   },
   "file_extension": ".py",
   "mimetype": "text/x-python",
   "name": "python",
   "nbconvert_exporter": "python",
   "pygments_lexer": "ipython3",
   "version": "3.6.7"
  }
 },
 "nbformat": 4,
 "nbformat_minor": 2
}
