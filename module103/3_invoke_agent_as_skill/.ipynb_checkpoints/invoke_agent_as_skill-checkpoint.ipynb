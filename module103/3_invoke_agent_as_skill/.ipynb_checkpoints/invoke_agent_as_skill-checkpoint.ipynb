{
 "cells": [
  {
   "cell_type": "markdown",
   "metadata": {
    "slideshow": {
     "slide_type": "-"
    }
   },
   "source": [
    "# Building the Invoke Agent Skill\n",
    "This notebook demonstrates how to use the Cortex Python SDK to build a skill which will invoke an Agent. Since we have previously created a Movie Maker Agent, let's show how we can effecrtively turn the Agent into a Skill."
   ]
  },
  {
   "cell_type": "markdown",
   "metadata": {},
   "source": [
    "## Define the invoke_agent function\n",
    "\n",
    "Agents are exposed via Service Endpoints as an API. The SDK has functionality to invoke these service endpoints with a pay load and retrieve the result.\n",
    "\n",
    "Since an Agent can have multiple Service Endpoints which lead to different results, we want to keep in mind the specific Endpoint we are going to invoke\n",
    "\n",
    "This function is broken up into two functions for readbility, invoke_agent and call_agent. \n",
    "\n",
    "In our example, we will be invoking the Agent we created from module103_part2, the Movie Maker Agent\n",
    "\n",
    "This will invoke our agent called 'class/movie-maker-YOUR_INITIALS' on the Service Endpoint 'make-movie'"
   ]
  },
  {
   "cell_type": "markdown",
   "metadata": {},
   "source": [
    "To show how simple it is to invoke/test an agent from Skill Lab, we will show how to do it through the SDK without having to even create a Cortex action first:"
   ]
  },
  {
   "cell_type": "markdown",
   "metadata": {},
   "source": [
    "We need to instantiate our agent. The SDK calls upon the Cortex API using our namespace and agent name"
   ]
  },
  {
   "cell_type": "code",
   "execution_count": null,
   "metadata": {},
   "outputs": [],
   "source": [
    "#Run this cell if your token/session has expired.\n",
    "\n",
    "from cortex import Cortex\n",
    "Cortex.login()"
   ]
  },
  {
   "cell_type": "code",
   "execution_count": null,
   "metadata": {},
   "outputs": [],
   "source": [
    "# Common Setup\n",
    "%run setup.ipynb"
   ]
  },
  {
   "cell_type": "code",
   "execution_count": null,
   "metadata": {},
   "outputs": [],
   "source": [
    "#Be sure to use the agent you created previously\n",
    "cortex = Cortex.client()\n",
    "agent = cortex.agent(\"<YOURNAME>/<movie_maker_YOUR_INITIALS>\")"
   ]
  },
  {
   "cell_type": "markdown",
   "metadata": {},
   "source": [
    "Now we will invoke our agent with a given payload. It should be very familiar as invoking an action is almost the same"
   ]
  },
  {
   "cell_type": "code",
   "execution_count": null,
   "metadata": {},
   "outputs": [],
   "source": [
    "response = agent.invoke_service(\"make-movie\", cortex.message({'name_of_movie': \"William and Theodore's Nostalgic Adventure\", 'role': 'lead_1', 'new_cast': 'Eddie Murphy'}))\n",
    "movie = response.payload.get('movie')\n",
    "movie"
   ]
  },
  {
   "cell_type": "markdown",
   "metadata": {},
   "source": [
    "Now our movie object contains the output of our entire agent. Depending on how we have connected our skills through our service inputs, we can get different results depending on which ones we invoke. \n",
    "\n",
    "For our example we have one input service 'make-movie' which first invokes the 'movie_maker2' skill followed by the 'replace_cast2' skill. "
   ]
  },
  {
   "cell_type": "code",
   "execution_count": null,
   "metadata": {},
   "outputs": [],
   "source": [
    "%%cortex_action --name '<YOURNAME>/invoke_agent-YOUR_INITIALS' --function invoke_agent --daemon\n",
    "from cortex import Message, Cortex\n",
    "\n",
    "def invoke_agent(params):\n",
    "    msg = Message(params)\n",
    "    cortex = Cortex.client(api_endpoint=msg.apiEndpoint, token=msg.token)\n",
    "    name_of_movie = msg.payload.get('name_of_movie')\n",
    "    role = msg.payload.get('role')\n",
    "    new_cast = msg.payload.get('new_cast')\n",
    "    \n",
    "    movie = get_agent_output(name_of_movie, role, new_cast, msg.apiEndpoint, msg.token)\n",
    "    \n",
    "    return cortex.message({'movie': movie}).to_params()\n",
    "\n",
    "def get_agent_output(name_of_movie, role, new_cast, url, token):\n",
    "    \n",
    "    cortex = Cortex.client(api_endpoint = url, token=token)\n",
    "    agent = cortex.agent(\"<YOURNAME>/<movie_maker_YOUR_INITIALS>\")\n",
    "    \n",
    "    response = agent.invoke_service(\"make-movie\", cortex.message({'name_of_movie': name_of_movie, 'role': role, 'new_cast': new_cast}))\n",
    "    movie = response.payload.get('movie')\n",
    "    \n",
    "    return movie"
   ]
  },
  {
   "cell_type": "markdown",
   "metadata": {},
   "source": [
    "Build and Deploy Action"
   ]
  },
  {
   "cell_type": "markdown",
   "metadata": {},
   "source": [
    "### Testing Actions\n",
    "Using the Cortex client, we can test our Action to make sure it deployed properly."
   ]
  },
  {
   "cell_type": "code",
   "execution_count": null,
   "metadata": {},
   "outputs": [],
   "source": [
    "# Instantiate Cortex Client\n",
    "cortex = Cortex.client()\n",
    "\n",
    "# Retrieve our Action that was deployed above\n",
    "action = cortex.action('<YOURNAME>/invoke_agent-YOUR_INITIALS')"
   ]
  },
  {
   "cell_type": "markdown",
   "metadata": {},
   "source": [
    "The Action deployment status should say **COMPLETED**.  This will indicate that our Action is ready to invoke."
   ]
  },
  {
   "cell_type": "code",
   "execution_count": null,
   "metadata": {},
   "outputs": [],
   "source": [
    "action.get_deployment_status()"
   ]
  },
  {
   "cell_type": "markdown",
   "metadata": {},
   "source": [
    "Invoke the Action using a Message object.  Here we just pass in the expected _eq_ parameter in the Message payload."
   ]
  },
  {
   "cell_type": "code",
   "execution_count": null,
   "metadata": {},
   "outputs": [],
   "source": [
    "from cortex import Message\n",
    "rs = action.invoke(cortex.message({'name_of_movie': 'Star Wars Episode 129', 'role':'lead_1','new_cast': 'Johnny Long'}))\n",
    "rs.payload"
   ]
  },
  {
   "cell_type": "markdown",
   "metadata": {},
   "source": [
    "## Building a Cortex Skill\n",
    "Now that our Action is ready and tested, we can move on to building a Cortex Skill.  In this simple example, our Skill will just pipe an Input to our Action and route the Output back to the caller."
   ]
  },
  {
   "cell_type": "code",
   "execution_count": null,
   "metadata": {},
   "outputs": [],
   "source": [
    "builder = cortex.builder()"
   ]
  },
  {
   "cell_type": "markdown",
   "metadata": {},
   "source": [
    "The _builder_ has multiple entry points, we use the _skill_ method here to declare a new \"Invoke Agent\" Skill.  Each _builder_ method returns an instance of the builder so we can chain calls together.  "
   ]
  },
  {
   "cell_type": "code",
   "execution_count": null,
   "metadata": {},
   "outputs": [],
   "source": [
    "b = builder.skill('class/invoke-agent-YOUR_INITIALS').title('Invoke Agent-<YOUR_INITIALS>').description('Skill that invokes the Movie Maker Agent. It wraps the agent into a skill so that it can be connected with other skills.')"
   ]
  },
  {
   "cell_type": "markdown",
   "metadata": {},
   "source": [
    "Next, we use the Input sub-builder to construct our Skill Input.  This is where we declare how our Input will route messages.  In this simple case, we use the _all_ routing which routes all input messages to same Action for processing and declares wich Output to route Action outputs to.  We pass in our Action from the previous section to wire the Skill to the Action (we could have also passed in the Action name here).  Calling _build_ on the Input will create the input object, add it to the Skill builder, and return the Skill builder."
   ]
  },
  {
   "cell_type": "code",
   "execution_count": null,
   "metadata": {},
   "outputs": [],
   "source": [
    "b = b.input('make-movie').title('Movie Maker').parameter(name='name_of_movie', type='string', required=True).parameter(name='role',type='string', required=False).parameter(name='new_cast',type='string', required=False).all_routing(action, 'result').build()"
   ]
  },
  {
   "cell_type": "markdown",
   "metadata": {},
   "source": [
    "In the previous step, we referenced an Output called **result**.  We can create that Output here using the Output sub-builder."
   ]
  },
  {
   "cell_type": "code",
   "execution_count": null,
   "metadata": {},
   "outputs": [],
   "source": [
    "b = b.output('new-movie').title('New Movie').parameter(name='movie', type='object').build()"
   ]
  },
  {
   "cell_type": "markdown",
   "metadata": {},
   "source": [
    "## Preview the CAMEL Document\n",
    "We can preview the CAMEL document that each builder will create using the _to_camel_ method."
   ]
  },
  {
   "cell_type": "code",
   "execution_count": null,
   "metadata": {},
   "outputs": [],
   "source": [
    "b.to_camel()"
   ]
  },
  {
   "cell_type": "markdown",
   "metadata": {},
   "source": [
    "## Final Build and Publish\n",
    "We are now ready to build and publish our Skill."
   ]
  },
  {
   "cell_type": "code",
   "execution_count": null,
   "metadata": {},
   "outputs": [],
   "source": [
    "skill = b.build()\n",
    "print('%s (%s) v%d' % (skill.title, skill.name, skill.version))"
   ]
  },
  {
   "cell_type": "code",
   "execution_count": null,
   "metadata": {},
   "outputs": [],
   "source": [
    "rs = skill.invoke(input_name='make-movie', message=cortex.message({'name_of_movie': 'Star Wars Episode 42 - The Force goes to College', 'role':'lead_1','new_cast': 'Johnny Depp'}))\n",
    "rs.payload"
   ]
  }
 ],
 "metadata": {
  "kernelspec": {
   "display_name": "Python 3",
   "language": "python",
   "name": "python3"
  },
  "language_info": {
   "codemirror_mode": {
    "name": "ipython",
    "version": 3
   },
   "file_extension": ".py",
   "mimetype": "text/x-python",
   "name": "python",
   "nbconvert_exporter": "python",
   "pygments_lexer": "ipython3",
   "version": "3.6.0"
  }
 },
 "nbformat": 4,
 "nbformat_minor": 4
}
