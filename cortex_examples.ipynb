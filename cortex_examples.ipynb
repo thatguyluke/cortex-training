{
 "cells": [
  {
   "cell_type": "markdown",
   "metadata": {},
   "source": [
    "# Cortex Handy Examples #\n",
    "\n",
    "This notebook is a compliation of examples and code templates that you may find useful as you work with Cortex.  This is intended to be used as a reference to help you as you use Cortex\n",
    "\n",
    "These example cells can be copied into notebooks and used in a properly configured Cortex environment for your convenience.\n",
    "\n",
    "    Section 1: Connection and Authentication \n",
    "    Section 2: Verifying Cortex-Python Libraries\n",
    "    Section 3: Creating and Deploying an Action \n",
    "    Section 4: Creating a Skill"
   ]
  },
  {
   "cell_type": "markdown",
   "metadata": {},
   "source": [
    "<a id='Section 1:'></a>\n",
    "## Section 1: Connection and Authentication ##"
   ]
  },
  {
   "cell_type": "markdown",
   "metadata": {},
   "source": [
    "### Connecting to Cortex from a notebook ###\n",
    "\n",
    "This section shows you how to connect to Cortex from a Jupyter Notebook\n",
    "\n",
    "For more information go to:\n",
    "\n",
    "    Accessing Cortex: https://docs.training.cognitiveu.insights.ai/\n",
    "\n",
    "    CLI getting started: https://docs.training.cognitiveu.insights.ai/docs/cortex-tools/get-started-cli/\n",
    "    \n",
    "    Python Libraries: https://docs.training.cognitiveu.insights.ai/docs/cortex-tools/get-started-sdk/\n"
   ]
  },
  {
   "cell_type": "markdown",
   "metadata": {},
   "source": [
    "#### NOTE: \n",
    "You will need to have your Cortex JWT for many of the following tasks.  To find your JWT run the following from a terminal \n",
    "or use the escape character '!' from a notebook."
   ]
  },
  {
   "cell_type": "code",
   "execution_count": null,
   "metadata": {},
   "outputs": [],
   "source": [
    "#Be sure to put your specific user information in between the < > symbols\n",
    "curl -X POST \\\n",
    "https://api.<dci-base-domain>/v2/admin/<account-id>/users/authenticate \\\n",
    "  -H 'content-type: application/json' \\\n",
    "  -d '{\"username\": \"<user-name>\",\"password\": \"<password>\"}'"
   ]
  },
  {
   "cell_type": "code",
   "execution_count": 1,
   "metadata": {},
   "outputs": [
    {
     "name": "stdout",
     "output_type": "stream",
     "text": [
      "{\"username\":\"demo-user2\",\"email\":\"demo-user2@cognitivescale.com\",\"first\":\"Demo\",\"last\":\"User\",\"tenant\":\"cognitiveu\",\"jwt\":\"eyJhbGciOiJIUzI1NiIsInR5cCI6IkpXVCJ9.eyJpc3MiOiJjb2duaXRpdmVzY2FsZS5jb20iLCJhdWQiOiJjb3J0ZXgiLCJzdWIiOiJkZW1vLXVzZXIyIiwidGVuYW50IjoiY29nbml0aXZldSIsImJlYXJlciI6InB1YmxpYyIsImtleSI6InYxYk1pa3pwUkRXQnZaWDU2TURjd1ozT2t3YXdteTRZIiwiZXhwIjoxNTc2NTI5NDc5LCJhY2wiOnsiLioiOlsiUkVBRCIsIlJVTiIsIldSSVRFIiwiREVMRVRFIl0sIi92My9jYXRhbG9nLy4qIjpbIlJFQUQiLCJSVU4iLCJXUklURSIsIkRFTEVURSJdLCIvdjMvYWdlbnRzL2Vudmlyb25tZW50cy9jb3J0ZXgvZGVmYXVsdCI6WyJSRUFEIiwiUlVOIiwiV1JJVEUiXSwiL3YzL2FnZW50cy9lbnZpcm9ubWVudHMvLioiOlsiREVOWSJdLCIvdjIvYWRtaW4vLioiOlsiREVOWSJdLCIvdjIvdGVuYW50cy8uKiI6WyJERU5ZIl0sIi92Mi9hY2NvdW50cy8uKiI6WyJERU5ZIl0sIi92Mi9hY2NvdW50cy90b2tlbnMvLioiOlsiUkVBRCIsIlJVTiIsIldSSVRFIl0sIi92Mi90ZW5hbnRzL3NlY3JldHMvLioiOlsiUkVBRCIsIlJVTiIsIldSSVRFIl0sIi92Mi90ZW5hbnRzL2N1cnJlbnQtdXNlci1kZXRhaWxzIjpbIlJFQUQiXSwiL3YzL2dyYXBoLy4qIjpbIlJFQUQiLCJSVU4iLCJXUklURSIsIkRFTEVURSJdfSwiaWF0IjoxNTc1MzE5ODc5fQ.VqWcIlel6E3WICQmSIYZ8agrLIq2gqFfBhq0jcbUl7E\",\"active\":true,\"upsert_date\":\"2019-09-25T15:32:28.653Z\"}"
     ]
    }
   ],
   "source": [
    "#here is an example using the CognitiveU default training tenant\n",
    "\n",
    "!curl -X POST \\\n",
    "https://api.training.cognitiveu.insights.ai/v2/admin/cognitiveu/users/authenticate \\\n",
    "  -H 'content-type: application/json' \\\n",
    "  -d '{\"username\": \"demo-user2\", \"password\": \"#CognitiveU2019\"}'"
   ]
  },
  {
   "cell_type": "markdown",
   "metadata": {},
   "source": [
    "Importing the Cortex library"
   ]
  },
  {
   "cell_type": "code",
   "execution_count": null,
   "metadata": {},
   "outputs": [],
   "source": [
    "#To import the Cortex Library:\n",
    "\n",
    "from cortex import Cortex"
   ]
  },
  {
   "cell_type": "markdown",
   "metadata": {},
   "source": [
    "Connecting from within a skill:"
   ]
  },
  {
   "cell_type": "code",
   "execution_count": null,
   "metadata": {},
   "outputs": [],
   "source": [
    "from cortex import Cortex\n",
    "Cortex.client(api_endpoint='https://api.<dci-base-domain>/<account-id>/insights.ai', token=<'your JWT token found above'>)"
   ]
  },
  {
   "cell_type": "markdown",
   "metadata": {},
   "source": [
    "Connecting when working in your Notebooks (this is useful when working on multiple accounts)"
   ]
  },
  {
   "cell_type": "code",
   "execution_count": null,
   "metadata": {},
   "outputs": [],
   "source": [
    "#Connect to your Cortex tenant from a notebook with SDK\n",
    "from cortex import Cortex\n",
    "Cortex.login()"
   ]
  },
  {
   "cell_type": "markdown",
   "metadata": {},
   "source": [
    "## Section 2: Cortex Python Libraries ##\n",
    "\n",
    "The following will install and verify your version of the Cortex Python libraries."
   ]
  },
  {
   "cell_type": "code",
   "execution_count": null,
   "metadata": {},
   "outputs": [],
   "source": [
    "#The Cortex Python libraires are installed via pip\n",
    "pip install cortex-python"
   ]
  },
  {
   "cell_type": "markdown",
   "metadata": {},
   "source": [
    "#### Updating/installing additional Cortex Python Libraries ####\n",
    "\n"
   ]
  },
  {
   "cell_type": "code",
   "execution_count": null,
   "metadata": {},
   "outputs": [],
   "source": [
    "#The additional cortex-python libraries \n",
    "pip install cortex-python[viz]\n",
    "pip install cortex-python[jupyter]\n",
    "pip install cortex-python[builders]"
   ]
  },
  {
   "cell_type": "markdown",
   "metadata": {},
   "source": [
    "## Section 3: Create and deploy an Action ##\n",
    "\n",
    "The Cortex Action is a self-contained code module that encapsulates a task - in other words, it is a function in computer science terms. It can be a short running service, long running batch job, or stateful microservice. \n",
    "\n",
    "An action can be:\n",
    "\n",
    "    Job: Used to process high volumes of data that would normally consume long-term memory if run in the foreground, as well as for running programs that require little to no user interaction and are required to run on a regular basis. \n",
    "    \n",
    "    Daemon: Web servers typically used for ML predictions and serving inquiries. Once started, it runs indefinitely. \n",
    "    \n",
    "\n",
    "Remember Cortex Actions perform specific tasks in the Cortex envrionment. They represent the smallest logical unit of work that supports solutions using Cortex.  The work Cortex Actions perform is executed within individual Docker containers in Cortex, allowing users the ability to isolate tasks and use them in multiple solutions."
   ]
  },
  {
   "cell_type": "markdown",
   "metadata": {},
   "source": [
    "#### Cortex and Docker ####\n",
    "\n",
    "Cortex Actions are deployed to Docker images in your Cortex Private registry.  In order to create Cortex Actions you must have Docker properly configured and running in your local environment. \n",
    "\n",
    "(For more information see https://docs.cortex.insights.ai/docs/skill-development/define-actions/actions-docker/ )"
   ]
  },
  {
   "cell_type": "code",
   "execution_count": null,
   "metadata": {},
   "outputs": [],
   "source": [
    "#ensure that you are able to access cortex docker run this from a command line\n",
    "cortex docker login"
   ]
  },
  {
   "cell_type": "markdown",
   "metadata": {},
   "source": [
    "To view your docker containers use the following command (again using the '!' escape character allows you to enter terminal commands from a notebook)"
   ]
  },
  {
   "cell_type": "code",
   "execution_count": null,
   "metadata": {},
   "outputs": [],
   "source": [
    "#Run this from the command line\n",
    "docker images"
   ]
  },
  {
   "cell_type": "markdown",
   "metadata": {},
   "source": [
    "For more information on how to use Docker visit: https://www.docker.com/resources"
   ]
  },
  {
   "cell_type": "markdown",
   "metadata": {},
   "source": [
    "### Create Action with iPython Magic\n",
    "\n",
    "\n",
    "Here is a simple \"Hello World\" Cortex Action created using iPython Magic.  At a minimum you must define the name, function, and the task that you want the action to accomplish (in this case return a user input):\n",
    "\n",
    "    --name '<namespace>/<action name>'\n",
    "    --title\n",
    "    --action definition"
   ]
  },
  {
   "cell_type": "markdown",
   "metadata": {},
   "source": [
    "Step 1: Import required packages and components then define (or verify) Cortex connection"
   ]
  },
  {
   "cell_type": "code",
   "execution_count": null,
   "metadata": {},
   "outputs": [],
   "source": [
    "\n",
    "\n",
    "from cortex import Cortex, Message\n",
    "import os\n",
    "import json\n",
    "import re\n",
    "import time\n",
    "import datetime\n",
    "\n",
    "cortex = Cortex.client()\n",
    "\n",
    "%reload_ext cortex"
   ]
  },
  {
   "cell_type": "markdown",
   "metadata": {},
   "source": [
    "Step 2: Define the action and create the Docker container using iPython Magic."
   ]
  },
  {
   "cell_type": "code",
   "execution_count": null,
   "metadata": {},
   "outputs": [],
   "source": [
    "%%cortex_action --name 'test/hello-world-test' --function hello_world --daemon\n",
    "\n",
    "from cortex import Cortex, Message\n",
    "\n",
    "def hello_world(params):\n",
    "    msg = Message(params)\n",
    "    cortex = Cortex.client(params['apiEndpoint'], token = params['token'])\n",
    "    text = msg.payload.get('text')\n",
    "    return cortex.message({'message': 'Hello %s!' % text}).to_params()"
   ]
  },
  {
   "cell_type": "markdown",
   "metadata": {},
   "source": [
    "Step 3: Test your action.\n",
    "\n",
    "Always, Always, Always, test your action...\n",
    "\n",
    "... always."
   ]
  },
  {
   "cell_type": "code",
   "execution_count": null,
   "metadata": {},
   "outputs": [],
   "source": [
    "# Instantiate Cortex Client\n",
    "\n",
    "cortex = Cortex.client()\n",
    "\n",
    "# Retrieve the Action deployed above\n",
    "# Use the same '<action_namespace>/<action_name>' as defined by '--name'\n",
    "\n",
    "action = cortex.action('test/hello-world-test')"
   ]
  },
  {
   "cell_type": "code",
   "execution_count": null,
   "metadata": {},
   "outputs": [],
   "source": [
    "#Check the status of the action.  To use an action a return status of COMPLETED (for a function or job) or COMPLETED(running) (for a daemon) is required.\n",
    "#A status of STARTING will be displayed for daemons or large actions during creation.\n",
    "\n",
    "action.get_deployment_status() "
   ]
  },
  {
   "cell_type": "code",
   "execution_count": null,
   "metadata": {},
   "outputs": [],
   "source": [
    "#Invoke the Action using a Message object. Pass the expected text parameter in the Message payload.\n",
    "\n",
    "from cortex import Cortex, Message\n",
    "\n",
    "rs = action.invoke(cortex.message({'text': 'Cortex'}))\n",
    "rs.payload"
   ]
  },
  {
   "cell_type": "markdown",
   "metadata": {},
   "source": [
    "### Create Action with action builder\n",
    "\n",
    "Here is the same simple \"Hello World\" action created WITHOUT using iPython Magic.  You still must define the name, function, and what the action will accomplish, the process is a bit d:\n",
    "\n",
    "    --name '<namespace>/<action name>'\n",
    "    --title\n",
    "    --action definition"
   ]
  },
  {
   "cell_type": "code",
   "execution_count": null,
   "metadata": {},
   "outputs": [],
   "source": [
    "from cortex import Cortex, Message\n",
    "import os\n",
    "import json\n",
    "import re\n",
    "import time\n",
    "import datetime\n",
    "\n",
    "cortex = Cortex.client()"
   ]
  },
  {
   "cell_type": "code",
   "execution_count": null,
   "metadata": {},
   "outputs": [],
   "source": [
    "builder = cortex.builder()\n",
    "\n",
    "def hello_world(params):\n",
    "    msg = Message(params)\n",
    "    #cortex = Cortex.client(params['apiEndpoint'], token = params['token'])\n",
    "    text = msg.payload.get('text')\n",
    "    return cortex.message({'message': 'Hello %s!' % text}).to_params()\n",
    "\n",
    "builder.action('whatever/you_want').from_source('hello_world').build()\n"
   ]
  },
  {
   "cell_type": "code",
   "execution_count": null,
   "metadata": {},
   "outputs": [],
   "source": [
    "# Instantiate Cortex Client\n",
    "\n",
    "cortex = Cortex.client()\n",
    "\n",
    "# Retrieve our Action that was deployed above\n",
    "# Use the same '<action_namespace>/<action_name>' as you did above for '--name'\n",
    "\n",
    "action = cortex.action('whatever/you_want')\n",
    "action"
   ]
  },
  {
   "cell_type": "code",
   "execution_count": null,
   "metadata": {},
   "outputs": [],
   "source": [
    "#check the status of your action (you want to see COMPLETED for a function or COMPLETED (running) for a daemon)\n",
    "\n",
    "action.get_deployment_status() "
   ]
  },
  {
   "cell_type": "code",
   "execution_count": null,
   "metadata": {},
   "outputs": [],
   "source": [
    "#Invoke the Action using a Message object. Pass the expected text parameter in the Message payload.\n",
    "\n",
    "from cortex import Cortex, Message\n",
    "\n",
    "rs = action.invoke(cortex.message({'text': 'Cortex'}))\n",
    "rs.payload"
   ]
  },
  {
   "cell_type": "markdown",
   "metadata": {},
   "source": [
    "## Section 4: Create a Skill "
   ]
  },
  {
   "cell_type": "markdown",
   "metadata": {},
   "source": [
    "Once an Action is ready and tested, you can move on to building a Cortex Skill. \n",
    "\n",
    "The _builder_ has multiple entry points, we use the _skill_ method here to declare a new Skill.  Each _builder_ method returns an instance of the builder so we can chain calls together. "
   ]
  },
  {
   "cell_type": "code",
   "execution_count": null,
   "metadata": {},
   "outputs": [],
   "source": [
    "builder = cortex.builder()"
   ]
  },
  {
   "cell_type": "code",
   "execution_count": null,
   "metadata": {},
   "outputs": [],
   "source": [
    "hello_world = builder.skill('<namespace>/<skill_name>').title('<Human Readable Title>').description('Clear description')"
   ]
  },
  {
   "cell_type": "markdown",
   "metadata": {},
   "source": [
    "Next, use the Input sub-builder to construct the Skill Input.  \n",
    "\n",
    "This is to declare how the Input will route messages.  In this simple case, the _all_ routing routes all input messages to same Action for processing and declares which Output to route Action outputs to.  \n",
    "\n",
    "Pass in the Action from the previous section to wire the Skill to the Action (the Action name could also be used here).  Calling _build_ on the Input will create the input object, add it to the Skill builder, and return the Skill builder."
   ]
  },
  {
   "cell_type": "code",
   "execution_count": null,
   "metadata": {},
   "outputs": [],
   "source": [
    "hello_world = hello_world.input('say-hello').title('Your Name').parameter(name='text', type='string').all_routing(action, 'greeting').build()"
   ]
  },
  {
   "cell_type": "markdown",
   "metadata": {},
   "source": [
    "In the next step, create an Output called **greeting**.  Create that Output using the Output sub-builder."
   ]
  },
  {
   "cell_type": "code",
   "execution_count": null,
   "metadata": {},
   "outputs": [],
   "source": [
    "hello_world = hello_world.output('greeting').title('Greeting').parameter(name='message', type='string').build()"
   ]
  },
  {
   "cell_type": "markdown",
   "metadata": {},
   "source": [
    "#### Preview the CAMEL Document\n",
    "Preview the CAMEL document that each builder will create using the _to__camel_ method."
   ]
  },
  {
   "cell_type": "code",
   "execution_count": null,
   "metadata": {},
   "outputs": [],
   "source": [
    "hello_world.to_camel()"
   ]
  },
  {
   "cell_type": "markdown",
   "metadata": {},
   "source": [
    "#### Final Build and Publish\n",
    "The final step is to build and publish the Skill."
   ]
  },
  {
   "cell_type": "code",
   "execution_count": null,
   "metadata": {},
   "outputs": [],
   "source": [
    "skill = hello_world.build()\n",
    "print('%s (%s) v%d' % (skill.title, skill.name, skill.version))"
   ]
  },
  {
   "cell_type": "markdown",
   "metadata": {},
   "source": [
    "And as always, test the Skill:"
   ]
  },
  {
   "cell_type": "code",
   "execution_count": null,
   "metadata": {},
   "outputs": [],
   "source": [
    "rs = skill.invoke(input_name='say-hello', message=Cortex.message({'text': 'Cortex'}))\n",
    "rs.payload"
   ]
  }
 ],
 "metadata": {
  "kernelspec": {
   "display_name": "Python 3",
   "language": "python",
   "name": "python3"
  },
  "language_info": {
   "codemirror_mode": {
    "name": "ipython",
    "version": 3
   },
   "file_extension": ".py",
   "mimetype": "text/x-python",
   "name": "python",
   "nbconvert_exporter": "python",
   "pygments_lexer": "ipython3",
   "version": "3.6.0"
  }
 },
 "nbformat": 4,
 "nbformat_minor": 4
}
